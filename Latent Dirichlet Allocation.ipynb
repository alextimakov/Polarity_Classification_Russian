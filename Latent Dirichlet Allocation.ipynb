{
 "cells": [
  {
   "cell_type": "code",
   "execution_count": null,
   "metadata": {},
   "outputs": [],
   "source": [
    "#prepare testing data\n",
    "\n",
    "#import libraries\n",
    "import nltk\n",
    "from nltk.corpus import stopwords\n",
    "from nltk.tokenize import word_tokenize\n",
    "import pandas as pd\n",
    "\n",
    "#read testing corpora\n",
    "test_wild = pd.read_excel('wildberries-test.xlsx', encoding=\"utf-8\")\n",
    "\n",
    "stop_words = stopwords.words('russian')"
   ]
  },
  {
   "cell_type": "code",
   "execution_count": 14,
   "metadata": {},
   "outputs": [
    {
     "name": "stdout",
     "output_type": "stream",
     "text": [
      "Topic 0:\n",
      "такой день всё хотела них ассортимент постоянно спасибо asos за\n",
      "Topic 1:\n",
      "как теперь но день каждый они очень мне так номер\n",
      "Topic 2:\n",
      "что то мне на за не когда можно только заказать\n",
      "Topic 3:\n",
      "меня даже др мне сейчас там за время быстро сегодня\n",
      "Topic 4:\n",
      "меня иди заказала которые нет вещи сейчас хотела спасибо даже\n",
      "Topic 5:\n",
      "больше за от то как др распродажи раз сегодня меня\n",
      "Topic 6:\n",
      "на не что сайте заказать заказала это или есть были\n",
      "Topic 7:\n",
      "можно на что раз время то купить магазине или нет\n",
      "Topic 8:\n",
      "не уже всегда вас заказать за меня сейчас делать доставки\n",
      "Topic 9:\n",
      "для из по спасибо мне всегда можно вещи не найти\n"
     ]
    }
   ],
   "source": [
    "#initial LDA model\n",
    "\n",
    "#import libraries\n",
    "from sklearn.feature_extraction.text import TfidfVectorizer, CountVectorizer\n",
    "from sklearn.decomposition import NMF, LatentDirichletAllocation\n",
    "import gensim\n",
    "import pandas as pd\n",
    "\n",
    "#read prepared testing corpus\n",
    "test_corp = pd.read_excel('wildberries-test.xlsx', encoding=\"utf-8\")\n",
    "documents = test_corp['text'].tolist()\n",
    "\n",
    "#create bag-of-words matrices\n",
    "no_features = 100\n",
    "tf_vectorizer = CountVectorizer(max_df=0.95, min_df=2, max_features=no_features)\n",
    "tf = tf_vectorizer.fit_transform(documents)\n",
    "tf_feature_names = tf_vectorizer.get_feature_names()\n",
    "\n",
    "#do topic modeling with scikit\n",
    "no_topics = 10\n",
    "lda = LatentDirichletAllocation(n_components=no_topics, max_iter=5, learning_method='online', \n",
    "                                learning_offset=50.,random_state=0).fit(tf)\n",
    "\n",
    "#do topic modeling with gensim\n",
    "lda = LdaModel(documents, num_topics=no_topics)\n",
    "\n",
    "#print results\n",
    "def display_topics(model, feature_names, no_top_words):\n",
    "    for topic_idx, topic in enumerate(model.components_):\n",
    "        print(\"Topic %d:\" % (topic_idx))\n",
    "        print(\" \".join([feature_names[i]\n",
    "                        for i in topic.argsort()[:-no_top_words - 1:-1]]))\n",
    "\n",
    "no_top_words = 10\n",
    "display_topics(lda, tf_feature_names, no_top_words)\n",
    "print(lda[doc_bow])"
   ]
  }
 ],
 "metadata": {
  "kernelspec": {
   "display_name": "Python 3",
   "language": "python",
   "name": "python3"
  },
  "language_info": {
   "codemirror_mode": {
    "name": "ipython",
    "version": 3
   },
   "file_extension": ".py",
   "mimetype": "text/x-python",
   "name": "python",
   "nbconvert_exporter": "python",
   "pygments_lexer": "ipython3",
   "version": "3.6.3"
  }
 },
 "nbformat": 4,
 "nbformat_minor": 2
}
