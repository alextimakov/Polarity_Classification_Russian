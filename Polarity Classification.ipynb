{
 "cells": [
  {
   "cell_type": "code",
   "execution_count": 1,
   "metadata": {
    "_cell_guid": "b1076dfc-b9ad-4769-8c92-a6c4dae69d19",
    "_uuid": "8f2839f25d086af736a60e9eeb907d3b93b6e0e5"
   },
   "outputs": [],
   "source": [
    "from sklearn.feature_extraction.text import TfidfVectorizer\n",
    "from nltk.corpus import stopwords\n",
    "from nltk import word_tokenize\n",
    "import pandas as pd\n",
    "import numpy as np\n",
    "import re\n",
    "from sklearn.model_selection import train_test_split\n",
    "from collections import defaultdict\n",
    "from sklearn.linear_model import LogisticRegression\n",
    "from sklearn.preprocessing import LabelEncoder\n",
    "from sklearn.metrics import accuracy_score, classification_report\n",
    "import json"
   ]
  },
  {
   "cell_type": "markdown",
   "metadata": {
    "_cell_guid": "1e7ce5e1-5c36-43aa-aeb7-427e55e9daa6",
    "_uuid": "48b8c571b118a12109989242e3ffc90ba1e197c8"
   },
   "source": [
    "# read date"
   ]
  },
  {
   "cell_type": "code",
   "execution_count": 8,
   "metadata": {
    "_cell_guid": "79c7e3d0-c299-4dcb-8224-4455121ee9b0",
    "_uuid": "d629ff2d2480ee46fbb7e2d37f6b5fab8052498a"
   },
   "outputs": [],
   "source": [
    "with open('train.json', encoding='utf-8') as f:\n",
    "    raw_train = json.load(f)\n",
    "with open('test.json') as f:\n",
    "    raw_test = json.load(f)"
   ]
  },
  {
   "cell_type": "markdown",
   "metadata": {
    "_cell_guid": "ba20f8f7-7272-48d6-b765-128eef8b2c77",
    "_uuid": "07aee9902b74e922de9fe4303710f91921ed6652"
   },
   "source": [
    "## build tfidf language model"
   ]
  },
  {
   "cell_type": "code",
   "execution_count": 9,
   "metadata": {
    "_cell_guid": "04e7b325-ca9c-4492-a314-c28f06843323",
    "_uuid": "c839f496745dbaad093b8786a5d0ddb4add69377"
   },
   "outputs": [],
   "source": [
    "def ru_token(string):\n",
    "    \"\"\"russian tokenize based on nltk.word_tokenize. only russian letter remaind.\"\"\"\n",
    "    return [i for i in word_tokenize(string) if re.match(r'[\\u0400-\\u04ffа́]+$', i)]"
   ]
  },
  {
   "cell_type": "code",
   "execution_count": 10,
   "metadata": {
    "_cell_guid": "e845fcda-b189-41ac-acdd-ca64dadcc30d",
    "_uuid": "c33e3e63190cef616fd79fb776514581865f8371"
   },
   "outputs": [],
   "source": [
    "params = {}\n",
    "params['tokenizer'] = ru_token\n",
    "params['stop_words'] = stopwords.words('russian')\n",
    "params['ngram_range'] = (1, 3)\n",
    "params['min_df'] = 3"
   ]
  },
  {
   "cell_type": "code",
   "execution_count": 11,
   "metadata": {
    "_cell_guid": "e12adfc7-f0a9-463b-91bd-3ec27a4e8a06",
    "_uuid": "ab5170c3aa76ec00ca8ae4c5a381a07f8e6dd853"
   },
   "outputs": [],
   "source": [
    "tfidf  = TfidfVectorizer(**params)"
   ]
  },
  {
   "cell_type": "code",
   "execution_count": 12,
   "metadata": {
    "_cell_guid": "89f82978-df03-4cfd-8740-46d7b22b8d84",
    "_uuid": "3ecfca75ac4d1cd1ce02db080c0d17dc2e76ad9d"
   },
   "outputs": [
    {
     "data": {
      "text/plain": [
       "TfidfVectorizer(analyzer='word', binary=False, decode_error='strict',\n",
       "        dtype=<class 'numpy.int64'>, encoding='utf-8', input='content',\n",
       "        lowercase=True, max_df=1.0, max_features=None, min_df=3,\n",
       "        ngram_range=(1, 3), norm='l2', preprocessor=None, smooth_idf=True,\n",
       "        stop_words=['и', 'в', 'во', 'не', 'что', 'он', 'на', 'я', 'с', 'со', 'как', 'а', 'то', 'все', 'она', 'так', 'его', 'но', 'да', 'ты', 'к', 'у', 'же', 'вы', 'за', 'бы', 'по', 'только', 'ее', 'мне', 'было', 'вот', 'от', 'меня', 'еще', 'нет', 'о', 'из', 'ему', 'теперь', 'когда', 'даже', 'ну', 'вдруг', '...гда', 'лучше', 'чуть', 'том', 'нельзя', 'такой', 'им', 'более', 'всегда', 'конечно', 'всю', 'между'],\n",
       "        strip_accents=None, sublinear_tf=False,\n",
       "        token_pattern='(?u)\\\\b\\\\w\\\\w+\\\\b',\n",
       "        tokenizer=<function ru_token at 0x000001358008A950>, use_idf=True,\n",
       "        vocabulary=None)"
      ]
     },
     "execution_count": 12,
     "metadata": {},
     "output_type": "execute_result"
    }
   ],
   "source": [
    "tfidf.fit([i['text'] for i in raw_train + raw_test])"
   ]
  },
  {
   "cell_type": "markdown",
   "metadata": {
    "_cell_guid": "ca07a374-0d0b-464c-bd30-34b7945ef66f",
    "_uuid": "2a16de95ab36dcbd48315933f3b037688199ad70"
   },
   "source": [
    "## train Validation set split"
   ]
  },
  {
   "cell_type": "code",
   "execution_count": 13,
   "metadata": {
    "_cell_guid": "93fd0230-a9ed-4730-a259-9fe7c6b18410",
    "_uuid": "86d445d4b351ef2eb6a86576203d19c67b11c450"
   },
   "outputs": [],
   "source": [
    "train = {}\n",
    "val = {}\n",
    "tmp = defaultdict(list)\n",
    "for e in raw_train:\n",
    "    tmp[e['sentiment']].append(e['text'])\n",
    "for l in tmp:\n",
    "    train[l], val[l] = train_test_split(tmp[l], test_size=0.2, random_state=2018)"
   ]
  },
  {
   "cell_type": "markdown",
   "metadata": {
    "_cell_guid": "68164113-5cf2-431c-9921-d802a5173d4f",
    "_uuid": "3f82eba0c655c80e7affca43a0fae891dff4fe75"
   },
   "source": [
    "## upsampling align for balance"
   ]
  },
  {
   "cell_type": "code",
   "execution_count": 14,
   "metadata": {
    "_cell_guid": "8a29ab3a-c70c-4892-8492-8c1a04580784",
    "_uuid": "053009ed866d2a35806feb8562c608ad33b1b054"
   },
   "outputs": [],
   "source": [
    "def upsampling_align(some_dict, random_state=2018):\n",
    "    rand = np.random.RandomState(random_state)\n",
    "    upper = max([len(some_dict[l]) for l in some_dict])\n",
    "    print('upper bound: {}'.format(upper))\n",
    "    tmp = {}\n",
    "    for l in some_dict:\n",
    "        if len(some_dict[l]) < upper:\n",
    "            repeat_time = int(upper/len(some_dict[l]))\n",
    "            remainder = upper % len(some_dict[l])\n",
    "            _tmp = some_dict[l].copy()\n",
    "            rand.shuffle(_tmp)\n",
    "            tmp[l] = some_dict[l] * repeat_time + _tmp[:remainder]\n",
    "            rand.shuffle(tmp[l])\n",
    "        else:\n",
    "            tmp[l] = some_dict[l]\n",
    "    return tmp"
   ]
  },
  {
   "cell_type": "code",
   "execution_count": 15,
   "metadata": {
    "_cell_guid": "d0f40731-2950-4282-8f87-daddee118b37",
    "_uuid": "18585dbbb50b0fdeea89e4cc3baab4a115085d91"
   },
   "outputs": [
    {
     "name": "stdout",
     "output_type": "stream",
     "text": [
      "upper bound: 3227\n"
     ]
    }
   ],
   "source": [
    "btrain = upsampling_align(train)"
   ]
  },
  {
   "cell_type": "markdown",
   "metadata": {
    "_cell_guid": "97d208e2-0a29-4d2b-87c4-13bbf9515ed9",
    "_uuid": "7a1a1cebdccc032fb9aea8752d3717d36610af09"
   },
   "source": [
    "## softmax regression model training"
   ]
  },
  {
   "cell_type": "code",
   "execution_count": 16,
   "metadata": {
    "_cell_guid": "ea51eca8-7a13-47a0-b198-b58ff640e17d",
    "_uuid": "30fdd3b6d3495f3e54fcdd01d1797a0fd974ac2d"
   },
   "outputs": [],
   "source": [
    "m_params = {}\n",
    "m_params['solver'] = 'lbfgs'\n",
    "m_params['multi_class'] = 'multinomial'"
   ]
  },
  {
   "cell_type": "code",
   "execution_count": 17,
   "metadata": {
    "_cell_guid": "1a183b47-f624-4f98-8699-908f31f3d13f",
    "_uuid": "3e58dfba1d924c487677f771cd245ff9c4593ecf"
   },
   "outputs": [],
   "source": [
    "softmax = LogisticRegression(**m_params)"
   ]
  },
  {
   "cell_type": "code",
   "execution_count": 18,
   "metadata": {
    "_cell_guid": "1c10264d-f973-4c7e-91d7-da3e795a892c",
    "_uuid": "559a1cd77ca652d88439a8c1d449566d678cc37f"
   },
   "outputs": [
    {
     "data": {
      "text/plain": [
       "LogisticRegression(C=1.0, class_weight=None, dual=False, fit_intercept=True,\n",
       "          intercept_scaling=1, max_iter=100, multi_class='multinomial',\n",
       "          n_jobs=1, penalty='l2', random_state=None, solver='lbfgs',\n",
       "          tol=0.0001, verbose=0, warm_start=False)"
      ]
     },
     "execution_count": 18,
     "metadata": {},
     "output_type": "execute_result"
    }
   ],
   "source": [
    "train_x = [j for i in sorted(btrain.keys()) for j in btrain[i]]\n",
    "train_y = [i for i in sorted(btrain.keys()) for j in btrain[i]]\n",
    "softmax.fit(tfidf.transform(train_x), train_y)"
   ]
  },
  {
   "cell_type": "markdown",
   "metadata": {
    "_cell_guid": "4a7b47a6-70ca-40e5-9878-d75e34f4a8ac",
    "_uuid": "a7f1fc9c0568738c10b8a0971481b4f04c6128dd"
   },
   "source": [
    "## evaluate the softmax regression model"
   ]
  },
  {
   "cell_type": "markdown",
   "metadata": {
    "_cell_guid": "22dc6af7-2f9d-4ae0-849c-a9c1930c487a",
    "_uuid": "ec82ab53eb3144598643b0875a39467b19027192"
   },
   "source": [
    "### accuracy"
   ]
  },
  {
   "cell_type": "code",
   "execution_count": 19,
   "metadata": {
    "_cell_guid": "ff9db4c1-a35d-492e-a9cc-0c9cc284d1b7",
    "_uuid": "f39b6bd24a185fcb5afc1067a33c0037627b3133"
   },
   "outputs": [],
   "source": [
    "test_x = [j for i in sorted(val.keys()) for j in val[i]]\n",
    "true = [i for i in sorted(val.keys()) for j in val[i]]"
   ]
  },
  {
   "cell_type": "code",
   "execution_count": 20,
   "metadata": {
    "_cell_guid": "b0a1d928-a89e-4854-a5d9-f75d1b045a20",
    "_uuid": "6e762bcae8a21e326de049a1fabf17b51c4ceec4"
   },
   "outputs": [],
   "source": [
    "pred = softmax.predict(tfidf.transform(test_x))"
   ]
  },
  {
   "cell_type": "code",
   "execution_count": 21,
   "metadata": {
    "_cell_guid": "3f57711e-371c-47c8-8e43-aad6979a6960",
    "_uuid": "a6a9f15a035160e80884276d863d22fe9056a34c"
   },
   "outputs": [
    {
     "data": {
      "text/plain": [
       "0.7180883242589232"
      ]
     },
     "execution_count": 21,
     "metadata": {},
     "output_type": "execute_result"
    }
   ],
   "source": [
    "accuracy_score(true, pred)"
   ]
  },
  {
   "cell_type": "markdown",
   "metadata": {
    "_cell_guid": "898f7426-66d5-4d61-8034-e25c3b80ff9b",
    "_uuid": "31154ab94ad53eb0103e123aa172c863b499f839"
   },
   "source": [
    "### macro recall"
   ]
  },
  {
   "cell_type": "code",
   "execution_count": 22,
   "metadata": {
    "_cell_guid": "4f64e7b3-2613-45ed-83fa-b757d902a411",
    "_uuid": "cb1d059dbdd2a123d063715cc7ce46ec7e096d0e"
   },
   "outputs": [
    {
     "name": "stdout",
     "output_type": "stream",
     "text": [
      "             precision    recall  f1-score   support\n",
      "\n",
      "   negative    0.65079   0.71429   0.68106       287\n",
      "    neutral    0.75267   0.69765   0.72412       807\n",
      "   positive    0.71017   0.74955   0.72933       559\n",
      "\n",
      "avg / total    0.72061   0.71809   0.71840      1653\n",
      "\n"
     ]
    }
   ],
   "source": [
    "lab = LabelEncoder()\n",
    "c_true = lab.fit_transform(true)\n",
    "c_pred = lab.transform(pred)\n",
    "print(classification_report(c_true, c_pred, target_names=lab.classes_, digits=5))"
   ]
  },
  {
   "cell_type": "markdown",
   "metadata": {
    "_cell_guid": "3b89280d-4f43-4cbd-b870-9d679c5fa4a5",
    "_uuid": "adbfbd7a8bc2517262eb91b5d479d4d48fa634ed"
   },
   "source": [
    "### balance score"
   ]
  },
  {
   "cell_type": "code",
   "execution_count": 23,
   "metadata": {
    "_cell_guid": "ddb0184c-00cd-47d1-9b88-6ebc4c9ba0a6",
    "_uuid": "821b849edf06158dd31a0b32de16c0637f2bf903"
   },
   "outputs": [
    {
     "name": "stdout",
     "output_type": "stream",
     "text": [
      "upper bound: 807\n"
     ]
    }
   ],
   "source": [
    "bval = upsampling_align(val)"
   ]
  },
  {
   "cell_type": "code",
   "execution_count": 24,
   "metadata": {
    "_cell_guid": "93fca31b-8166-4a41-b14b-ac2405878590",
    "_uuid": "142f3a45fd0c980a7c26b49b84c2468fa19c1252"
   },
   "outputs": [
    {
     "name": "stdout",
     "output_type": "stream",
     "text": [
      "             precision    recall  f1-score   support\n",
      "\n",
      "   negative    0.82803   0.71004   0.76451       807\n",
      "    neutral    0.61329   0.69765   0.65275       807\n",
      "   positive    0.74723   0.75093   0.74907       807\n",
      "\n",
      "avg / total    0.72952   0.71954   0.72211      2421\n",
      "\n"
     ]
    }
   ],
   "source": [
    "b_test_x = [j for i in sorted(bval.keys()) for j in bval[i]]\n",
    "b_true = [i for i in sorted(bval.keys()) for j in bval[i]]\n",
    "b_pred = softmax.predict(tfidf.transform(b_test_x))\n",
    "lab = LabelEncoder()\n",
    "c_true = lab.fit_transform(b_true)\n",
    "c_pred = lab.transform(b_pred)\n",
    "print(classification_report(c_true, c_pred, target_names=lab.classes_, digits=5))"
   ]
  },
  {
   "cell_type": "markdown",
   "metadata": {
    "_cell_guid": "6fc3fc46-006d-4872-8fec-aae2125654cd",
    "_uuid": "81f56a0868c6438d932733a2abb1462d9c12f1d0"
   },
   "source": [
    "## predict"
   ]
  },
  {
   "cell_type": "code",
   "execution_count": 25,
   "metadata": {
    "_cell_guid": "357b5fd0-ee89-4ace-87d6-f66380679842",
    "_uuid": "20b6bece5cf1abcc78a0e507fc26810a98d847c9"
   },
   "outputs": [],
   "source": [
    "sub_pred = softmax.predict(tfidf.transform([i['text'] for i in raw_test]))\n",
    "sub_df = pd.DataFrame()\n",
    "sub_df['id'] =  [i['id'] for i in raw_test]\n",
    "sub_df['sentiment'] = sub_pred"
   ]
  },
  {
   "cell_type": "code",
   "execution_count": 26,
   "metadata": {
    "_cell_guid": "684729b2-d24d-4649-9111-34eb6434ac14",
    "_uuid": "a7d0cb8f35828218c4a8eeadaa707b9d8931f3bf"
   },
   "outputs": [
    {
     "data": {
      "text/html": [
       "<div>\n",
       "<style scoped>\n",
       "    .dataframe tbody tr th:only-of-type {\n",
       "        vertical-align: middle;\n",
       "    }\n",
       "\n",
       "    .dataframe tbody tr th {\n",
       "        vertical-align: top;\n",
       "    }\n",
       "\n",
       "    .dataframe thead th {\n",
       "        text-align: right;\n",
       "    }\n",
       "</style>\n",
       "<table border=\"1\" class=\"dataframe\">\n",
       "  <thead>\n",
       "    <tr style=\"text-align: right;\">\n",
       "      <th></th>\n",
       "      <th>id</th>\n",
       "      <th>sentiment</th>\n",
       "    </tr>\n",
       "  </thead>\n",
       "  <tbody>\n",
       "    <tr>\n",
       "      <th>0</th>\n",
       "      <td>0</td>\n",
       "      <td>neutral</td>\n",
       "    </tr>\n",
       "    <tr>\n",
       "      <th>1</th>\n",
       "      <td>1</td>\n",
       "      <td>neutral</td>\n",
       "    </tr>\n",
       "    <tr>\n",
       "      <th>2</th>\n",
       "      <td>2</td>\n",
       "      <td>neutral</td>\n",
       "    </tr>\n",
       "    <tr>\n",
       "      <th>3</th>\n",
       "      <td>3</td>\n",
       "      <td>neutral</td>\n",
       "    </tr>\n",
       "    <tr>\n",
       "      <th>4</th>\n",
       "      <td>4</td>\n",
       "      <td>neutral</td>\n",
       "    </tr>\n",
       "  </tbody>\n",
       "</table>\n",
       "</div>"
      ],
      "text/plain": [
       "   id sentiment\n",
       "0   0   neutral\n",
       "1   1   neutral\n",
       "2   2   neutral\n",
       "3   3   neutral\n",
       "4   4   neutral"
      ]
     },
     "execution_count": 26,
     "metadata": {},
     "output_type": "execute_result"
    }
   ],
   "source": [
    "sub_df.head()"
   ]
  },
  {
   "cell_type": "code",
   "execution_count": 27,
   "metadata": {
    "_cell_guid": "b3ba9861-e142-4ad0-8b8e-4e0b2301ddc7",
    "_uuid": "190b5b30ef3e567d65564be0df0e27bcbe1b3b01"
   },
   "outputs": [],
   "source": [
    "sub_df.to_csv('softmax_reg.csv', index=False)"
   ]
  }
 ],
 "metadata": {
  "kernelspec": {
   "display_name": "Python 3",
   "language": "python",
   "name": "python3"
  },
  "language_info": {
   "codemirror_mode": {
    "name": "ipython",
    "version": 3
   },
   "file_extension": ".py",
   "mimetype": "text/x-python",
   "name": "python",
   "nbconvert_exporter": "python",
   "pygments_lexer": "ipython3",
   "version": "3.6.3"
  }
 },
 "nbformat": 4,
 "nbformat_minor": 1
}
